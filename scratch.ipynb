{
 "cells": [
  {
   "cell_type": "code",
   "execution_count": 12,
   "metadata": {},
   "outputs": [
    {
     "name": "stdout",
     "output_type": "stream",
     "text": [
      "3824\n",
      "3824\n",
      "True\n",
      "False\n"
     ]
    }
   ],
   "source": [
    "def check_identity_and_equality():\n",
    "    original_numeric_string = input()\n",
    "    copy_numeric_string = original_numeric_string[:]\n",
    "    equals = False\n",
    "    identical = False\n",
    "    print(original_numeric_string)\n",
    "    print(copy_numeric_string)\n",
    "    # Insert your code here\n",
    "    if original_numeric_string == copy_numeric_string:\n",
    "        equals = True\n",
    "    if id(original_numeric_string) is id(copy_numeric_string):\n",
    "        identical = True\n",
    "    print(equals)\n",
    "    print(identical)\n",
    "\n",
    "check_identity_and_equality()"
   ]
  }
 ],
 "metadata": {
  "kernelspec": {
   "display_name": "Python 3",
   "language": "python",
   "name": "python3"
  },
  "language_info": {
   "codemirror_mode": {
    "name": "ipython",
    "version": 3
   },
   "file_extension": ".py",
   "mimetype": "text/x-python",
   "name": "python",
   "nbconvert_exporter": "python",
   "pygments_lexer": "ipython3",
   "version": "3.11.7"
  }
 },
 "nbformat": 4,
 "nbformat_minor": 2
}
