{
 "cells": [
  {
   "cell_type": "code",
   "execution_count": 8,
   "metadata": {},
   "outputs": [
    {
     "name": "stdout",
     "output_type": "stream",
     "text": [
      "['1', '1', '1', '1']\n",
      "False\n",
      "True\n"
     ]
    }
   ],
   "source": [
    "# input_data = \"imsurethereisnosuchstudentid 1 1 1 1\"\n",
    "input_data = \"139293 1 1 1 1\"\n",
    "\n",
    "parts = input_data.split()\n",
    "\n",
    "print(parts[1:])\n",
    "print(parts[0].isdigit())\n",
    "print(parts[1].isdigit())"
   ]
  }
 ],
 "metadata": {
  "kernelspec": {
   "display_name": "Python 3",
   "language": "python",
   "name": "python3"
  },
  "language_info": {
   "codemirror_mode": {
    "name": "ipython",
    "version": 3
   },
   "file_extension": ".py",
   "mimetype": "text/x-python",
   "name": "python",
   "nbconvert_exporter": "python",
   "pygments_lexer": "ipython3",
   "version": "3.11.7"
  }
 },
 "nbformat": 4,
 "nbformat_minor": 2
}
