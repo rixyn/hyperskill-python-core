{
 "cells": [
  {
   "cell_type": "code",
   "execution_count": 12,
   "metadata": {},
   "outputs": [
    {
     "name": "stdout",
     "output_type": "stream",
     "text": [
      "Num 5: 4\n"
     ]
    }
   ],
   "source": [
    "numbers = {\"first\": 1, \"second\": 2, \"third\": 3, \"fourth\": 4}\n",
    "\n",
    "\n",
    "try:\n",
    "    # print(\"Num 1: \" + str(numbers.popitem()))        # ('fourth', 4)\n",
    "    # print(\"Num 2: \" + str(numbers.get(4, \"4\")))      # 4\n",
    "    # print(\"Num 3: \" + str(numbers.pop(\"fourth\")))    # 4\n",
    "    # print(\"Num 4: \" + str(numbers.get(4)))          # None\n",
    "    print(\"Num 5: \" + str(numbers.get(\"fourth\")))    # 4\n",
    "except Exception as e:\n",
    "    print(f\"An exception occurred: {e}\")\n",
    "\n",
    "# numbers.get()"
   ]
  }
 ],
 "metadata": {
  "kernelspec": {
   "display_name": "Python 3",
   "language": "python",
   "name": "python3"
  },
  "language_info": {
   "codemirror_mode": {
    "name": "ipython",
    "version": 3
   },
   "file_extension": ".py",
   "mimetype": "text/x-python",
   "name": "python",
   "nbconvert_exporter": "python",
   "pygments_lexer": "ipython3",
   "version": "3.11.7"
  }
 },
 "nbformat": 4,
 "nbformat_minor": 2
}
