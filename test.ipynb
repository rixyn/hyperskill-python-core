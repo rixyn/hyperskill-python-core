{
 "cells": [
  {
   "cell_type": "code",
   "execution_count": 3,
   "metadata": {},
   "outputs": [
    {
     "name": "stdout",
     "output_type": "stream",
     "text": [
      "I am the test\n",
      "\n",
      "Iamthetest\n",
      "I_ _am_ _the_test\n",
      "I am the!test\n",
      "\n",
      "I am the test!"
     ]
    }
   ],
   "source": [
    "print('I', 'am', 'the', 'test')\n",
    "print(\"\")\n",
    "print('I', 'am', 'the', sep='', end='test')\n",
    "print(\"\")\n",
    "print('I', ' ', 'am', ' ', 'the', 'test', sep='_', end='')\n",
    "print(\"\")\n",
    "print('I am the', 'test', sep='!')\n",
    "print(\"\")\n",
    "print(*['I', 'am', 'the', 'test'], end='!')"
   ]
  }
 ],
 "metadata": {
  "kernelspec": {
   "display_name": "Python 3",
   "language": "python",
   "name": "python3"
  },
  "language_info": {
   "codemirror_mode": {
    "name": "ipython",
    "version": 3
   },
   "file_extension": ".py",
   "mimetype": "text/x-python",
   "name": "python",
   "nbconvert_exporter": "python",
   "pygments_lexer": "ipython3",
   "version": "3.11.7"
  }
 },
 "nbformat": 4,
 "nbformat_minor": 2
}
